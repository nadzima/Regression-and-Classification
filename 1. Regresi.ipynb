{
 "cells": [
  {
   "cell_type": "code",
   "execution_count": null,
   "metadata": {
    "scrolled": true
   },
   "outputs": [
    {
     "name": "stdout",
     "output_type": "stream",
     "text": [
      "Collecting package metadata: done\n",
      "Solving environment: done\n",
      "\n",
      "\n",
      "==> WARNING: A newer version of conda exists. <==\n",
      "  current version: 4.6.14\n",
      "  latest version: 4.7.12\n",
      "\n",
      "Please update conda by running\n",
      "\n",
      "    $ conda update -n base -c defaults conda\n",
      "\n",
      "\n",
      "\n",
      "## Package Plan ##\n",
      "\n",
      "  environment location: /srv/conda/envs/notebook\n",
      "\n",
      "  added / updated specs:\n",
      "    - yellowbrick\n",
      "\n",
      "\n",
      "The following packages will be downloaded:\n",
      "\n",
      "    package                    |            build\n",
      "    ---------------------------|-----------------\n",
      "    atomicwrites-1.3.0         |             py_0           9 KB  conda-forge\n",
      "    ca-certificates-2019.9.11  |       hecc5488_0         144 KB  conda-forge\n",
      "    certifi-2019.9.11          |           py37_0         147 KB  conda-forge\n",
      "    importlib_metadata-0.23    |           py37_0          39 KB  conda-forge\n",
      "    more-itertools-7.2.0       |             py_0          48 KB  conda-forge\n",
      "    openssl-1.1.1d             |       h516909a_0         2.1 MB  conda-forge\n",
      "    pluggy-0.13.0              |           py37_0          28 KB  conda-forge\n",
      "    py-1.8.0                   |             py_0          65 KB  conda-forge\n",
      "    pytest-5.0.1               |           py37_0         347 KB  conda-forge\n",
      "    pytest-runner-5.2          |             py_0           9 KB  conda-forge\n",
      "    yellowbrick-1.0.1          |           py37_0         427 KB  districtdatalabs\n",
      "    zipp-0.6.0                 |             py_0           7 KB  conda-forge\n",
      "    ------------------------------------------------------------\n",
      "                                           Total:         3.3 MB\n",
      "\n",
      "The following NEW packages will be INSTALLED:\n",
      "\n",
      "  atomicwrites       conda-forge/noarch::atomicwrites-1.3.0-py_0\n",
      "  importlib_metadata conda-forge/linux-64::importlib_metadata-0.23-py37_0\n",
      "  more-itertools     conda-forge/noarch::more-itertools-7.2.0-py_0\n",
      "  pluggy             conda-forge/linux-64::pluggy-0.13.0-py37_0\n",
      "  py                 conda-forge/noarch::py-1.8.0-py_0\n",
      "  pytest             conda-forge/linux-64::pytest-5.0.1-py37_0\n",
      "  pytest-runner      conda-forge/noarch::pytest-runner-5.2-py_0\n",
      "  yellowbrick        districtdatalabs/linux-64::yellowbrick-1.0.1-py37_0\n",
      "  zipp               conda-forge/noarch::zipp-0.6.0-py_0\n",
      "\n",
      "The following packages will be UPDATED:\n",
      "\n",
      "  ca-certificates                      2019.6.16-hecc5488_0 --> 2019.9.11-hecc5488_0\n",
      "  certifi                                  2019.6.16-py37_0 --> 2019.9.11-py37_0\n",
      "  openssl                                 1.1.1b-h14c3975_1 --> 1.1.1d-h516909a_0\n",
      "\n",
      "\n",
      "\n",
      "Downloading and Extracting Packages\n",
      "py-1.8.0             | 65 KB     | ##################################### | 100% \n",
      "more-itertools-7.2.0 | 48 KB     | ##################################### | 100% \n",
      "pluggy-0.13.0        | 28 KB     | ##################################### | 100% \n",
      "ca-certificates-2019 | 144 KB    | ##################################### | 100% \n",
      "yellowbrick-1.0.1    | 427 KB    | ##################################### | 100% \n",
      "importlib_metadata-0 | 39 KB     | ##################################### | 100% \n",
      "certifi-2019.9.11    | 147 KB    | ##################################### | 100% \n",
      "atomicwrites-1.3.0   | 9 KB      | ##################################### | 100% \n",
      "zipp-0.6.0           | 7 KB      | ##################################### | 100% \n",
      "openssl-1.1.1d       | 2.1 MB    | ##################################### | 100% \n",
      "pytest-runner-5.2    | 9 KB      | ##################################### | 100% \n",
      "pytest-5.0.1         | 347 KB    | ##################################### | 100% \n",
      "Preparing transaction: done\n",
      "Verifying transaction: done\n",
      "Executing transaction: / "
     ]
    }
   ],
   "source": [
    "conda install -c districtdatalabs yellowbrick"
   ]
  },
  {
   "cell_type": "markdown",
   "metadata": {},
   "source": [
    "## Uffi Nadzima\n",
    "### Final Project BDA DTS UNS 2019"
   ]
  },
  {
   "cell_type": "markdown",
   "metadata": {},
   "source": [
    "## Importing Required Libraries"
   ]
  },
  {
   "cell_type": "code",
   "execution_count": null,
   "metadata": {},
   "outputs": [],
   "source": [
    "import pandas as pd\n",
    "import numpy as np\n",
    "import seaborn as sns\n",
    "import matplotlib.pyplot as plt\n",
    "from scipy.optimize import curve_fit\n",
    "from scipy import stats\n",
    "from sklearn.linear_model import LinearRegression\n",
    "from sklearn import datasets, linear_model, metrics \n",
    "from sklearn.model_selection import train_test_split\n",
    "from sklearn.metrics import mean_squared_error\n",
    "from sklearn.metrics import r2_score"
   ]
  },
  {
   "cell_type": "markdown",
   "metadata": {},
   "source": [
    "## Exploring Data"
   ]
  },
  {
   "cell_type": "code",
   "execution_count": null,
   "metadata": {},
   "outputs": [],
   "source": [
    "data=pd.read_csv(\"heart.csv\")\n",
    "data.head()"
   ]
  },
  {
   "cell_type": "markdown",
   "metadata": {},
   "source": [
    "Terdapat 10 variable:\n",
    "\n",
    "1.  sbp         : tekanan darah sistolik\n",
    "2.  tobacco     : Konsumsi tembakau kumulatif, dalam kg\n",
    "3.  ldl         : kolesterol lipoprotein densitas rendah\n",
    "4.  adiposity   : konsentrasi jaringan adiposa\n",
    "5.  famhist     : Sejarah keluarga penyakit jantung (1 = Sekarang, 0 = Tidak Ada)\n",
    "6.  typea       : Skor pada tes yang dirancang untuk mengukur perilaku tipe-A\n",
    "7.  obesity     : Obesitas\n",
    "8.  alcohol     : Konsumsi alkohol saat ini\n",
    "9.  age         : usia subjek\n",
    "10. chd         : Penyakit jantung koroner pada awal; 1 = Ya 0 = Tidak\n",
    "\n",
    "Setiap baris berikut berisi informasi dari satu pasien. Ada total 462 sampel."
   ]
  },
  {
   "cell_type": "code",
   "execution_count": null,
   "metadata": {},
   "outputs": [],
   "source": [
    "data.info()"
   ]
  },
  {
   "cell_type": "code",
   "execution_count": null,
   "metadata": {},
   "outputs": [],
   "source": [
    "data.describe()"
   ]
  },
  {
   "cell_type": "code",
   "execution_count": null,
   "metadata": {},
   "outputs": [],
   "source": [
    "data.count()"
   ]
  },
  {
   "cell_type": "code",
   "execution_count": null,
   "metadata": {},
   "outputs": [],
   "source": [
    "np.sum(data.isnull())"
   ]
  },
  {
   "cell_type": "code",
   "execution_count": null,
   "metadata": {},
   "outputs": [],
   "source": [
    "data.corr()"
   ]
  },
  {
   "cell_type": "code",
   "execution_count": null,
   "metadata": {},
   "outputs": [],
   "source": [
    "fig, ax = plt.subplots(figsize=(8,6))\n",
    "sns.heatmap(data.corr(), center=0, annot=True, cmap=\"YlGnBu\")"
   ]
  },
  {
   "cell_type": "markdown",
   "metadata": {},
   "source": [
    "## Scatter Plot"
   ]
  },
  {
   "cell_type": "code",
   "execution_count": null,
   "metadata": {},
   "outputs": [],
   "source": [
    "plt.scatter(data['adiposity'],data['obesity'])\n",
    "plt.xlabel('Konsentrasi Jaringan Adiposa')\n",
    "plt.ylabel('Obesitas')\n",
    "plt.show()"
   ]
  },
  {
   "cell_type": "code",
   "execution_count": null,
   "metadata": {
    "scrolled": true
   },
   "outputs": [],
   "source": [
    "data2=data.filter(items=['adiposity', 'obesity'])\n",
    "data2"
   ]
  },
  {
   "cell_type": "markdown",
   "metadata": {},
   "source": [
    "## Removing Outlier"
   ]
  },
  {
   "cell_type": "code",
   "execution_count": null,
   "metadata": {
    "scrolled": true
   },
   "outputs": [],
   "source": [
    "meanadiposity = data['adiposity'].mean()\n",
    "stdadiposity = data['adiposity'].std()\n",
    "meanobesity = data['obesity'].mean()\n",
    "stdobesity = data['obesity'].std()\n",
    "\n",
    "databersih=data[(np.abs((data['adiposity']-meanadiposity)/stdadiposity)<=2)\n",
    "               & (np.abs((data['obesity']-meanobesity)/stdobesity)<=2)]\n",
    "\n",
    "databersih"
   ]
  },
  {
   "cell_type": "code",
   "execution_count": null,
   "metadata": {},
   "outputs": [],
   "source": [
    "plt.scatter(databersih['adiposity'],databersih['obesity'])\n",
    "plt.show()"
   ]
  },
  {
   "cell_type": "markdown",
   "metadata": {},
   "source": [
    "## Normalisasi Data"
   ]
  },
  {
   "cell_type": "code",
   "execution_count": null,
   "metadata": {},
   "outputs": [],
   "source": [
    "normalx =databersih['adiposity']/max(databersih['adiposity'])\n",
    "normaly =databersih['obesity']/max(databersih['obesity'])"
   ]
  },
  {
   "cell_type": "markdown",
   "metadata": {},
   "source": [
    "## Regresi Polinomial"
   ]
  },
  {
   "cell_type": "code",
   "execution_count": null,
   "metadata": {},
   "outputs": [],
   "source": [
    "def polinomial(x, b0, b1, b2):\n",
    "    y = b0+(b1*x)+(b2*(x**2))\n",
    "    return y\n",
    "popt, pcov = curve_fit(polinomial, normalx, normaly)\n",
    "print(\"POLINOMIAL: b0 = %f, b1 = %f, b2 = %f \" % (popt[0], popt[1], popt[2]))\n",
    "x = databersih['adiposity']/max(databersih['adiposity'])\n",
    "plt.figure(figsize=(8,5))\n",
    "y = polinomial(x, *popt)\n",
    "plt.plot(normalx, normaly, 'ro', label='data')\n",
    "plt.plot(x,y, linewidth=2.0, label='polinomial')\n",
    "plt.legend(loc='best')\n",
    "plt.ylabel('Konsentrasi Jaringan Adiposa')\n",
    "plt.xlabel('Obesitas')\n",
    "plt.show()"
   ]
  },
  {
   "cell_type": "code",
   "execution_count": null,
   "metadata": {},
   "outputs": [],
   "source": [
    "X=np.array(normalx).reshape(-1,1)\n",
    "Y=np.array(normaly).reshape(-1,1)\n",
    "X_train, X_test, y_train, y_test=train_test_split(X,Y,test_size=0.10,random_state=145)\n",
    "popt, pcov = curve_fit(polinomial, X_train.ravel(), y_train.ravel())\n",
    "y_topi = polinomial(X_test, *popt)\n",
    "print('Mean absolute error: %.4f' % np.mean(np.absolute(y_test-y_topi)))\n",
    "print('Residual sum of squares (MSE): %.4f' % np.mean((y_test-y_topi)**2))\n",
    "print('R-sq: %.4f' % r2_score(y_topi, y_test))"
   ]
  },
  {
   "cell_type": "markdown",
   "metadata": {},
   "source": [
    "## Regresi Sigmoid"
   ]
  },
  {
   "cell_type": "code",
   "execution_count": null,
   "metadata": {},
   "outputs": [],
   "source": [
    "def sigmoid(x, b1, b2):\n",
    "    y = 1 / (1 + np.exp(-b1*(x-b2)))\n",
    "    return y\n",
    "popt, pcov = curve_fit(sigmoid, normalx, normaly)\n",
    "print(\" b1 = %f, b2 = %f\" % (popt[0], popt[1]))\n",
    "x = databersih['adiposity']/max(databersih['adiposity'])\n",
    "plt.figure(figsize=(8,5))\n",
    "y = sigmoid(x, *popt)\n",
    "plt.plot(normalx, normaly, 'ro', label='data')\n",
    "plt.plot(x,y, linewidth=3.0, label='sigmoid')\n",
    "plt.legend(loc='best')\n",
    "plt.ylabel('Konsentrasi Jaringan Adiposa')\n",
    "plt.xlabel('Obesitas')\n",
    "plt.show()"
   ]
  },
  {
   "cell_type": "code",
   "execution_count": null,
   "metadata": {},
   "outputs": [],
   "source": [
    "X=np.array(normalx).reshape(-1,1)\n",
    "Y=np.array(normaly).reshape(-1,1)\n",
    "X_train, X_test, y_train, y_test=train_test_split(X,Y,test_size=0.20,random_state=123)\n",
    "popt, pcov = curve_fit(sigmoid, X_train.ravel(), y_train.ravel())\n",
    "y_topi = sigmoid(X_test, *popt)\n",
    "print('Mean absolute error: %.4f' % np.mean(np.absolute(y_test-y_topi)))\n",
    "print('Residual sum of squares (MSE): %.4f' % np.mean((y_test-y_topi)**2))\n",
    "print('R-sq: %.4f' % r2_score(y_topi, y_test))"
   ]
  },
  {
   "cell_type": "markdown",
   "metadata": {},
   "source": [
    "## Regresi Eksponensial"
   ]
  },
  {
   "cell_type": "code",
   "execution_count": null,
   "metadata": {},
   "outputs": [],
   "source": [
    "def eksponensial(x, b0, b1):\n",
    "    y = b0*np.exp(b1*x)\n",
    "    return y\n",
    "popt, pcov = curve_fit(eksponensial, normalx, normaly)\n",
    "print(\" b1 = %f, b2 = %f\" % (popt[0], popt[1]))\n",
    "x = databersih['adiposity']/max(databersih['adiposity'])\n",
    "plt.figure(figsize=(8,5))\n",
    "y = eksponensial(x, *popt)\n",
    "plt.plot(normalx, normaly, 'ro', label='data',)\n",
    "plt.plot(x,y, linewidth=3.0, label='eksponensial')\n",
    "plt.legend(loc='best')\n",
    "plt.ylabel('Konsentrasi Jaringan Adiposa')\n",
    "plt.xlabel('Obesitas')\n",
    "plt.show()"
   ]
  },
  {
   "cell_type": "code",
   "execution_count": null,
   "metadata": {},
   "outputs": [],
   "source": [
    "Y=np.array(normaly).reshape(-1,1)\n",
    "X_train, X_test, y_train, y_test=train_test_split(X,Y,test_size=0.20,random_state=123)\n",
    "popt, pcov = curve_fit(eksponensial, X_train.ravel(), y_train.ravel())\n",
    "y_topi = eksponensial(X_test, *popt)\n",
    "print('Mean absolute error: %.4f' % np.mean(np.absolute(y_test-y_topi)))\n",
    "print('Residual sum of squares (MSE): %.4f' % np.mean((y_test-y_topi)**2))\n",
    "print('R-sq: %.4f' % r2_score(y_topi, y_test))"
   ]
  },
  {
   "cell_type": "markdown",
   "metadata": {},
   "source": [
    "## Regresi linear"
   ]
  },
  {
   "cell_type": "code",
   "execution_count": null,
   "metadata": {},
   "outputs": [],
   "source": [
    "def linear(x, b0, b1):\n",
    "    y = b0+(b1*x)\n",
    "    return y\n",
    "popt, pcov = curve_fit(linear, normalx, normaly)\n",
    "print(\" b1 = %f, b2 = %f\" % (popt[0], popt[1]))\n",
    "x = np.linspace(1960, 2015, 55)\n",
    "x = databersih['adiposity']/max(databersih['adiposity'])\n",
    "plt.figure(figsize=(8,5))\n",
    "y = linear(x, *popt)\n",
    "plt.plot(normalx, normaly, 'ro', label='data')\n",
    "plt.plot(x,y, linewidth=3.0, label='linear')\n",
    "plt.legend(loc='best')\n",
    "plt.ylabel('Konsentrasi Jaringan Adiposa')\n",
    "plt.xlabel('Obesitas')\n",
    "plt.show()"
   ]
  },
  {
   "cell_type": "code",
   "execution_count": null,
   "metadata": {},
   "outputs": [],
   "source": [
    "X=np.array(normalx).reshape(-1,1)\n",
    "Y=np.array(normaly).reshape(-1,1)\n",
    "X_train, X_test, y_train, y_test=train_test_split(X,Y,test_size=0.20,random_state=123)\n",
    "popt, pcov = curve_fit(linear, X_train.ravel(), y_train.ravel())\n",
    "y_topi = linear(X_test, *popt)\n",
    "print('Mean absolute error: %.4f' % np.mean(np.absolute(y_test-y_topi)))\n",
    "print('Residual sum of squares (MSE): %.4f' % np.mean((y_test-y_topi)**2))\n",
    "print('R-sq: %.4f' % r2_score(y_topi, y_test))"
   ]
  },
  {
   "cell_type": "markdown",
   "metadata": {},
   "source": [
    "## Evaluasi Model"
   ]
  },
  {
   "cell_type": "markdown",
   "metadata": {},
   "source": [
    "Evaluasi model dilakukan dengan membandingkan nilai *__Mean Absolute Error(MAE)__*, *__Residual sum of squares/Mean Squaare Error(MSE)__*, serta *__R2-score__*.\n",
    "\n",
    "1. __Regresi Polinomial__   ->  \n",
    "                                Mean absolute error: 0.0481\n",
    "                                Residual sum of squares (MSE): 0.0040\n",
    "                                R-sq: 0.1801\n",
    "2. __Regresi Sigmoid__      ->  \n",
    "                                Mean absolute error: 0.0494\n",
    "                                Residual sum of squares (MSE): 0.0040\n",
    "                                R-sq: 0.1994\n",
    "3. __Regresi Eksponensial__ ->  \n",
    "                                Mean absolute error: 0.0508\n",
    "                                Residual sum of squares (MSE): 0.0040\n",
    "                                R-sq: 0.2113\n",
    "4. __Regresi Linear__       ->  \n",
    "                                Mean absolute error: 0.0499\n",
    "                                Residual sum of squares (MSE): 0.0040\n",
    "                                R-sq: 0.2271\n",
    "\n",
    "Semakin kecil nilai __MAE__ dan __MSE__ serta semakin tinggi nilai __R2 score__ model regresinya semakin baik.\n",
    "Dari evaluasi model regresi diatas, diperoleh model yang sesuai adalah model regresi linear. Hal ini dikarenakan pada model regresi linear nilai MAE dan MSE nya kecil dan nilai R2-scorenya lebih besar dibandingkan dengan model yang lain."
   ]
  },
  {
   "cell_type": "markdown",
   "metadata": {},
   "source": [
    "## Simple Regression"
   ]
  },
  {
   "cell_type": "code",
   "execution_count": null,
   "metadata": {},
   "outputs": [],
   "source": [
    "data2=databersih.filter(items=['ldl','obesity'])\n",
    "data2.head()"
   ]
  },
  {
   "cell_type": "code",
   "execution_count": null,
   "metadata": {},
   "outputs": [],
   "source": [
    "x = data2['ldl'].values.reshape(-1,1)\n",
    "y = data2['obesity'].values.reshape(-1,1)"
   ]
  },
  {
   "cell_type": "code",
   "execution_count": null,
   "metadata": {},
   "outputs": [],
   "source": [
    "from sklearn.model_selection import train_test_split\n",
    "\n",
    "x_train, x_test, y_train, y_test=train_test_split(x,y, test_size=1/3,random_state=0)"
   ]
  },
  {
   "cell_type": "code",
   "execution_count": null,
   "metadata": {},
   "outputs": [],
   "source": [
    "from sklearn.linear_model import LinearRegression\n",
    "regressor=LinearRegression()\n",
    "regressor.fit(x_train,y_train)"
   ]
  },
  {
   "cell_type": "code",
   "execution_count": null,
   "metadata": {},
   "outputs": [],
   "source": [
    "print('intercept:',regressor.intercept_)\n",
    "print('slope:',regressor.coef_)"
   ]
  },
  {
   "cell_type": "markdown",
   "metadata": {},
   "source": [
    "Dari hasil di atas diperoleh model regresi sederhana yaitu $y=0.35523342x+16.70266666$ artinya untuk setiap satuan __adiposity__ akan meningkatkan $0.35523342$ __obesity__ "
   ]
  },
  {
   "cell_type": "code",
   "execution_count": null,
   "metadata": {},
   "outputs": [],
   "source": [
    "y_pred = regressor.predict(x_test)"
   ]
  },
  {
   "cell_type": "code",
   "execution_count": null,
   "metadata": {
    "scrolled": true
   },
   "outputs": [],
   "source": [
    "df = pd.DataFrame({'Actual': y_test.flatten(), 'Predicted': y_pred.flatten()})\n",
    "df"
   ]
  },
  {
   "cell_type": "markdown",
   "metadata": {},
   "source": [
    "## Validasi Data"
   ]
  },
  {
   "cell_type": "code",
   "execution_count": null,
   "metadata": {},
   "outputs": [],
   "source": [
    "from sklearn.metrics import r2_score\n",
    "from sklearn.metrics import mean_squared_error\n",
    "from sklearn import metrics\n",
    "\n",
    "print('Mean absolute error: %.2f' % np.mean(np.absolute(y_pred-y_test)))\n",
    "print('MSE: %.2f' % mean_squared_error(y_test, y_pred))\n",
    "from sklearn.metrics import r2_score\n",
    "print('R2-score: %.2f' % r2_score(y_test, y_pred))"
   ]
  },
  {
   "cell_type": "code",
   "execution_count": null,
   "metadata": {},
   "outputs": [],
   "source": [
    "def mean_absolute_percentage_error(y_test, y_pred): \n",
    "    y_test, y_pred = np.array(y_test), np.array(y_pred)\n",
    "    return np.mean(np.abs((y_test - y_pred) / y_test)) * 100\n",
    "mean_absolute_percentage_error(y_test, y_pred)"
   ]
  },
  {
   "cell_type": "markdown",
   "metadata": {},
   "source": [
    "## Clustering"
   ]
  },
  {
   "cell_type": "code",
   "execution_count": null,
   "metadata": {},
   "outputs": [],
   "source": [
    "X=databersih.filter(items=['tobacco','adiposity'])\n",
    "X.head()"
   ]
  },
  {
   "cell_type": "code",
   "execution_count": null,
   "metadata": {},
   "outputs": [],
   "source": [
    "X=X.values"
   ]
  },
  {
   "cell_type": "code",
   "execution_count": null,
   "metadata": {},
   "outputs": [],
   "source": [
    "from sklearn.cluster import KMeans\n",
    "from yellowbrick.cluster import KElbowVisualizer"
   ]
  },
  {
   "cell_type": "code",
   "execution_count": null,
   "metadata": {},
   "outputs": [],
   "source": [
    "model = KMeans(random_state=0)\n",
    "visualizer = KElbowVisualizer(model, k=(2,10), metric='silhouette', timings=False)"
   ]
  },
  {
   "cell_type": "code",
   "execution_count": null,
   "metadata": {},
   "outputs": [],
   "source": [
    "visualizer.fit(X)    \n",
    "visualizer.poof()"
   ]
  },
  {
   "cell_type": "code",
   "execution_count": null,
   "metadata": {},
   "outputs": [],
   "source": [
    "kmeans = KMeans(n_clusters = 5, init = 'k-means++', random_state = 0)\n",
    "y_kmeans = kmeans.fit_predict(X)"
   ]
  },
  {
   "cell_type": "code",
   "execution_count": null,
   "metadata": {},
   "outputs": [],
   "source": [
    "plt.scatter(X[y_kmeans == 0, 0], X[y_kmeans == 0, 1], s = 100, c = 'red', label = 'Cluster 1')\n",
    "plt.scatter(X[y_kmeans == 1, 0], X[y_kmeans == 1, 1], s = 100, c = 'blue', label = 'Cluster 2')\n",
    "plt.scatter(X[y_kmeans == 2, 0], X[y_kmeans == 2, 1], s = 100, c = 'green', label = 'Cluster 3')\n",
    "plt.scatter(X[y_kmeans == 3, 0], X[y_kmeans == 3, 1], s = 100, c = 'cyan', label = 'Cluster 4')\n",
    "plt.scatter(X[y_kmeans == 4, 0], X[y_kmeans == 4, 1], s = 100, c = 'orange', label = 'Cluster 5')\n",
    "plt.scatter(kmeans.cluster_centers_[:, 0], kmeans.cluster_centers_[:, 1], s = 300, marker='x', c = 'black', label = 'Centroids')\n",
    "plt.title('Klasterisasi')\n",
    "plt.xlabel('Tembakau')\n",
    "plt.ylabel('Tingkat Adiposa')\n",
    "plt.legend()\n",
    "plt.show()"
   ]
  }
 ],
 "metadata": {
  "kernelspec": {
   "display_name": "Python 3",
   "language": "python",
   "name": "python3"
  },
  "language_info": {
   "codemirror_mode": {
    "name": "ipython",
    "version": 3
   },
   "file_extension": ".py",
   "mimetype": "text/x-python",
   "name": "python",
   "nbconvert_exporter": "python",
   "pygments_lexer": "ipython3",
   "version": "3.7.3"
  }
 },
 "nbformat": 4,
 "nbformat_minor": 4
}
